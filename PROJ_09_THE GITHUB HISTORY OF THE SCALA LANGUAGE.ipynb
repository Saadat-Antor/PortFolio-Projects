{
 "cells": [
  {
   "cell_type": "markdown",
   "id": "afc97144",
   "metadata": {},
   "source": [
    "# With almost 30k commits and a history spanning over ten years, Scala is a mature programming language. It is a general-purpose programming language that has recently become another prominent language for data scientists.\n",
    "\n",
    "# Scala is also an open source project. Open source projects have the advantage that their entire development histories, who made changes, what was changed, code reviews, etc. are publicly available.\n",
    "\n",
    "# We're going to read in, clean up, and visualize the real world project repository of Scala that spans data from a version control system (Git) as well as a project hosting site (GitHub). We will find out who has had the most influence on its development and who are the experts.\n",
    "\n",
    "# The dataset we will use, which has been previously mined and extracted from GitHub, is comprised of three files:\n",
    "\n",
    "## 1. pulls_2011-2013.csv contains the basic information about the pull requests, and spans from the end of 2011 up to (but not including) 2014.\n",
    "## 2. pulls_2014-2018.csv contains identical information, and spans from 2014 up to 2018.\n",
    "## 3. pull_files.csv contains the files that were modified by each pull request."
   ]
  },
  {
   "cell_type": "code",
   "execution_count": 1,
   "id": "346e18ad",
   "metadata": {},
   "outputs": [],
   "source": []
  },
  {
   "cell_type": "code",
   "execution_count": null,
   "id": "064e4f44",
   "metadata": {},
   "outputs": [],
   "source": []
  },
  {
   "cell_type": "code",
   "execution_count": null,
   "id": "2b610c96",
   "metadata": {},
   "outputs": [],
   "source": []
  },
  {
   "cell_type": "markdown",
   "id": "146c103b",
   "metadata": {},
   "source": [
    "## SCALA'S REAL-WORLD PROJECT REPOSITORY DATA"
   ]
  },
  {
   "cell_type": "code",
   "execution_count": 1,
   "id": "0f735253",
   "metadata": {},
   "outputs": [],
   "source": [
    "# Importing pandas\n",
    "import pandas as pd\n",
    "\n",
    "# Loading in the data\n",
    "pulls_one = pd.read_csv('E:\\Desktop\\DataCamp\\PROJ_09_THE GITHUB HISTORY OF THE SCALA LANGUAGE\\datasets\\pulls_2011-2013.csv')\n",
    "pulls_two = pd.read_csv('E:\\Desktop\\DataCamp\\PROJ_09_THE GITHUB HISTORY OF THE SCALA LANGUAGE\\datasets/pulls_2014-2018.csv')\n",
    "pull_files = pd.read_csv('E:\\Desktop\\DataCamp\\PROJ_09_THE GITHUB HISTORY OF THE SCALA LANGUAGE\\datasets\\pull_files.csv') "
   ]
  },
  {
   "cell_type": "markdown",
   "id": "b37dcd0d",
   "metadata": {},
   "source": [
    "## PREPARING AND CLEANING THE DATA"
   ]
  },
  {
   "cell_type": "code",
   "execution_count": 2,
   "id": "c0ad7dac",
   "metadata": {},
   "outputs": [],
   "source": [
    "# Appending pulls_one to pulls_two\n",
    "pulls = pulls_one.append([pulls_two], ignore_index=True)\n",
    "# Converting the date for the pulls object\n",
    "pulls['date'] = pd.to_datetime(pulls['date'], utc = True)"
   ]
  },
  {
   "cell_type": "markdown",
   "id": "b782e73f",
   "metadata": {},
   "source": [
    "## MERGING THE DATAFRAMES"
   ]
  },
  {
   "cell_type": "code",
   "execution_count": 3,
   "id": "68f44eef",
   "metadata": {},
   "outputs": [],
   "source": [
    "# Merging the two DataFrames\n",
    "data = pulls.merge(pull_files, on = 'pid')"
   ]
  },
  {
   "cell_type": "markdown",
   "id": "d50b7acb",
   "metadata": {},
   "source": [
    "## IS THE PROJECT STILL ACTIVELY MAINTAINED?"
   ]
  },
  {
   "cell_type": "code",
   "execution_count": 11,
   "id": "1c06fea7",
   "metadata": {},
   "outputs": [
    {
     "data": {
      "text/plain": [
       "<AxesSubplot:xlabel='month,year'>"
      ]
     },
     "execution_count": 11,
     "metadata": {},
     "output_type": "execute_result"
    },
    {
     "data": {
      "image/png": "[encoded data removed]",
      "text/plain": [
       "<Figure size 864x288 with 1 Axes>"
      ]
     },
     "metadata": {
      "needs_background": "light"
     },
     "output_type": "display_data"
    }
   ],
   "source": [
    "%matplotlib inline\n",
    "\n",
    "# Creating a column that will store the month\n",
    "data['month'] = data['date'].dt.month\n",
    "\n",
    "# Creating a column that will store the year\n",
    "data['year'] = data['date'].dt.year\n",
    "\n",
    "# Grouping by the month and year and count the pull requests\n",
    "counts = data.groupby(['month', 'year'])['pid'].count()\n",
    "\n",
    "# Plotting the results\n",
    "counts.plot(kind='bar', figsize = (12,4), color = 'lime')"
   ]
  },
  {
   "cell_type": "markdown",
   "id": "1c6c3b9b",
   "metadata": {},
   "source": [
    "## IS THERE CAMARADERIE IN THE PROJECT?"
   ]
  },
  {
   "cell_type": "code",
   "execution_count": 13,
   "id": "322d2a8e",
   "metadata": {},
   "outputs": [
    {
     "data": {
      "text/plain": [
       "array([[<AxesSubplot:title={'center':'pid'}>]], dtype=object)"
      ]
     },
     "execution_count": 13,
     "metadata": {},
     "output_type": "execute_result"
    },
    {
     "data": {
      "image/png": "[encoded data removed]",
      "text/plain": [
       "<Figure size 432x288 with 1 Axes>"
      ]
     },
     "metadata": {
      "needs_background": "light"
     },
     "output_type": "display_data"
    }
   ],
   "source": [
    "# Required for matplotlib\n",
    "%matplotlib inline\n",
    "\n",
    "# Grouping by the submitter\n",
    "by_user = data.groupby('user').agg({'pid':'count'})\n",
    "\n",
    "# Plotting the histogram\n",
    "by_user.hist(color = 'orange')"
   ]
  },
  {
   "cell_type": "markdown",
   "id": "f0ddca22",
   "metadata": {},
   "source": [
    "## WHAT FILES WERE CHANGED IN THE LAST TEN PULL REQUESTS?"
   ]
  },
  {
   "cell_type": "code",
   "execution_count": 14,
   "id": "5a153829",
   "metadata": {},
   "outputs": [
    {
     "data": {
      "text/plain": [
       "{'src/compiler/scala/tools/nsc/profile/AsyncHelper.scala',\n",
       " 'src/compiler/scala/tools/nsc/profile/Profiler.scala',\n",
       " 'src/library/scala/concurrent/Lock.scala',\n",
       " 'test/files/pos/t5638/Among.java',\n",
       " 'test/files/pos/t5638/Usage.scala',\n",
       " 'test/files/pos/t9291.scala',\n",
       " 'test/files/run/t8348.check',\n",
       " 'test/files/run/t8348/TableColumn.java',\n",
       " 'test/files/run/t8348/TableColumnImpl.java',\n",
       " 'test/files/run/t8348/Test.scala'}"
      ]
     },
     "execution_count": 14,
     "metadata": {},
     "output_type": "execute_result"
    }
   ],
   "source": [
    "# Identifying the last 10 pull requests\n",
    "last_10 = data.nlargest(10, 'pid', keep = 'last')\n",
    "\n",
    "# Joining the two data sets\n",
    "joined_pr = last_10.merge(pull_files, on = 'pid')\n",
    "\n",
    "# Identifying the unique files\n",
    "files = set(joined_pr['file_x'].unique())\n",
    "\n",
    "# Printing the results\n",
    "files"
   ]
  },
  {
   "cell_type": "markdown",
   "id": "fc3dcb38",
   "metadata": {},
   "source": [
    "## WHO MADE THE MOST PULL REQUESTS TO A GIVEN FILE?"
   ]
  },
  {
   "cell_type": "code",
   "execution_count": 15,
   "id": "6a4bc742",
   "metadata": {},
   "outputs": [
    {
     "data": {
      "text/html": [
       "<div>\n",
       "<style scoped>\n",
       "    .dataframe tbody tr th:only-of-type {\n",
       "        vertical-align: middle;\n",
       "    }\n",
       "\n",
       "    .dataframe tbody tr th {\n",
       "        vertical-align: top;\n",
       "    }\n",
       "\n",
       "    .dataframe thead th {\n",
       "        text-align: right;\n",
       "    }\n",
       "</style>\n",
       "<table border=\"1\" class=\"dataframe\">\n",
       "  <thead>\n",
       "    <tr style=\"text-align: right;\">\n",
       "      <th></th>\n",
       "      <th>pid</th>\n",
       "      <th>date</th>\n",
       "      <th>file</th>\n",
       "      <th>month</th>\n",
       "      <th>year</th>\n",
       "    </tr>\n",
       "    <tr>\n",
       "      <th>user</th>\n",
       "      <th></th>\n",
       "      <th></th>\n",
       "      <th></th>\n",
       "      <th></th>\n",
       "      <th></th>\n",
       "    </tr>\n",
       "  </thead>\n",
       "  <tbody>\n",
       "    <tr>\n",
       "      <th>xeno-by</th>\n",
       "      <td>11</td>\n",
       "      <td>11</td>\n",
       "      <td>11</td>\n",
       "      <td>11</td>\n",
       "      <td>11</td>\n",
       "    </tr>\n",
       "    <tr>\n",
       "      <th>retronym</th>\n",
       "      <td>5</td>\n",
       "      <td>5</td>\n",
       "      <td>5</td>\n",
       "      <td>5</td>\n",
       "      <td>5</td>\n",
       "    </tr>\n",
       "    <tr>\n",
       "      <th>soc</th>\n",
       "      <td>4</td>\n",
       "      <td>4</td>\n",
       "      <td>4</td>\n",
       "      <td>4</td>\n",
       "      <td>4</td>\n",
       "    </tr>\n",
       "  </tbody>\n",
       "</table>\n",
       "</div>"
      ],
      "text/plain": [
       "          pid  date  file  month  year\n",
       "user                                  \n",
       "xeno-by    11    11    11     11    11\n",
       "retronym    5     5     5      5     5\n",
       "soc         4     4     4      4     4"
      ]
     },
     "execution_count": 15,
     "metadata": {},
     "output_type": "execute_result"
    }
   ],
   "source": [
    "# This is the file we are interested in:\n",
    "file = 'src/compiler/scala/reflect/reify/phases/Calculate.scala'\n",
    "\n",
    "# Identifying the commits that changed the file\n",
    "file_pr = data[data['file'] == file]\n",
    "\n",
    "# Counting the number of changes made by each developer\n",
    "author_counts = file_pr.groupby('user').count()\n",
    "\n",
    "# Printing the top 3 developers\n",
    "author_counts.nlargest(3, 'file')"
   ]
  },
  {
   "cell_type": "markdown",
   "id": "a68e3ab4",
   "metadata": {},
   "source": [
    "## WHO MADE THE LAST TEN PULL REQUESTS ON A GIVEN FILE?"
   ]
  },
  {
   "cell_type": "code",
   "execution_count": 16,
   "id": "11adc1d5",
   "metadata": {},
   "outputs": [
    {
     "data": {
      "text/plain": [
       "{'bjornregnell', 'retronym', 'soc', 'starblood', 'xeno-by', 'zuvizudar'}"
      ]
     },
     "execution_count": 16,
     "metadata": {},
     "output_type": "execute_result"
    }
   ],
   "source": [
    "file = 'src/compiler/scala/reflect/reify/phases/Calculate.scala'\n",
    "\n",
    "# Selecting the pull requests that changed the target file\n",
    "file_pr = pull_files[pull_files['file'] == file]\n",
    "\n",
    "# Merging the obtained results with the pulls DataFrame\n",
    "joined_pr = file_pr.merge(pulls, on = 'pid')\n",
    "\n",
    "# Finding the users of the last 10 most recent pull requests\n",
    "users_last_10 = set(joined_pr.nlargest(10, 'date')['user'])\n",
    "\n",
    "# Printing the results\n",
    "users_last_10"
   ]
  },
  {
   "cell_type": "markdown",
   "id": "fae06b5e",
   "metadata": {},
   "source": [
    "## THE PULL REQUESTS OF TWO SPECIAL DEVELOPERS"
   ]
  },
  {
   "cell_type": "code",
   "execution_count": 17,
   "id": "86d38fd1",
   "metadata": {},
   "outputs": [
    {
     "data": {
      "text/plain": [
       "<AxesSubplot:xlabel='date'>"
      ]
     },
     "execution_count": 17,
     "metadata": {},
     "output_type": "execute_result"
    },
    {
     "data": {
      "image/png": "[encoded data removed]",
      "text/plain": [
       "<Figure size 432x288 with 1 Axes>"
      ]
     },
     "metadata": {
      "needs_background": "light"
     },
     "output_type": "display_data"
    }
   ],
   "source": [
    "%matplotlib inline\n",
    "\n",
    "# The developers we are interested in\n",
    "authors = ['xeno-by', 'soc']\n",
    "\n",
    "# Getting all the developers' pull requests\n",
    "by_author = pulls[pulls['user'].isin(authors)]\n",
    "\n",
    "# Counting the number of pull requests submitted each year\n",
    "counts = by_author.groupby([by_author['user'], by_author['date'].dt.year]).agg({'pid': 'count'}).reset_index()\n",
    "\n",
    "# Converting the table to a wide format\n",
    "counts_wide = counts.pivot_table(index='date', columns='user', values='pid', fill_value=0)\n",
    "\n",
    "# Plotting the results\n",
    "counts_wide.plot(kind='bar')"
   ]
  },
  {
   "cell_type": "markdown",
   "id": "b1e425c4",
   "metadata": {},
   "source": [
    "## VISUALIZING THE CONTRIBUTIONS OF EACH DEVELOPER"
   ]
  },
  {
   "cell_type": "code",
   "execution_count": 18,
   "id": "23f104dc",
   "metadata": {},
   "outputs": [
    {
     "data": {
      "text/plain": [
       "<AxesSubplot:xlabel='date'>"
      ]
     },
     "execution_count": 18,
     "metadata": {},
     "output_type": "execute_result"
    },
    {
     "data": {
      "image/png": "[encoded data removed]",
      "text/plain": [
       "<Figure size 432x288 with 1 Axes>"
      ]
     },
     "metadata": {
      "needs_background": "light"
     },
     "output_type": "display_data"
    }
   ],
   "source": [
    "authors = ['xeno-by', 'soc']\n",
    "file = 'src/compiler/scala/reflect/reify/phases/Calculate.scala'\n",
    "\n",
    "# Selecting the pull requests submitted by the authors, from the `data` DataFrame\n",
    "by_author = data[data['user'].isin(authors)]\n",
    "\n",
    "# Selecting the pull requests that affect the file\n",
    "by_file = by_author[by_author['file'] == file]\n",
    "\n",
    "# Grouping and counting the number of PRs done by each user each year\n",
    "grouped = by_file.groupby(['user', by_file['date'].dt.year]).count()['pid'].reset_index()\n",
    "\n",
    "# Transforming the data into a wide format\n",
    "by_file_wide = by_file.pivot_table(index='date', columns='user', values='pid', fill_value=0)\n",
    "\n",
    "# Ploting the results\n",
    "by_file_wide.plot(kind='bar')"
   ]
  }
 ],
 "metadata": {
  "kernelspec": {
   "display_name": "Python 3",
   "language": "python",
   "name": "python3"
  },
  "language_info": {
   "codemirror_mode": {
    "name": "ipython",
    "version": 3
   },
   "file_extension": ".py",
   "mimetype": "text/x-python",
   "name": "python",
   "nbconvert_exporter": "python",
   "pygments_lexer": "ipython3",
   "version": "3.8.8"
  }
 },
 "nbformat": 4,
 "nbformat_minor": 5
}
